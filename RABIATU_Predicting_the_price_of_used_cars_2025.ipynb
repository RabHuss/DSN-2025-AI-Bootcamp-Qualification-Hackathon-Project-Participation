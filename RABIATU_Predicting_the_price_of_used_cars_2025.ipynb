{
  "nbformat": 4,
  "nbformat_minor": 0,
  "metadata": {
    "colab": {
      "private_outputs": true,
      "provenance": [],
      "authorship_tag": "ABX9TyN1rfKoVy7m9ubbyKPNt1lq",
      "include_colab_link": true
    },
    "kernelspec": {
      "name": "python3",
      "display_name": "Python 3"
    },
    "language_info": {
      "name": "python"
    }
  },
  "cells": [
    {
      "cell_type": "markdown",
      "metadata": {
        "id": "view-in-github",
        "colab_type": "text"
      },
      "source": [
        "<a href=\"https://colab.research.google.com/github/RabHuss/DSN-2025-AI-Bootcamp-Qualification-Hackathon-Project-Participation/blob/main/RABIATU_Predicting_the_price_of_used_cars_2025.ipynb\" target=\"_parent\"><img src=\"https://colab.research.google.com/assets/colab-badge.svg\" alt=\"Open In Colab\"/></a>"
      ]
    },
    {
      "cell_type": "code",
      "source": [
        "import pandas as pd\n",
        "import numpy as np\n",
        "from sklearn.preprocessing import LabelEncoder\n",
        "from sklearn.ensemble import HistGradientBoostingRegressor\n",
        "\n",
        "# 1) Load data\n",
        "train = pd.read_csv(\"train.csv\", on_bad_lines=\"skip\")\n",
        "test = pd.read_csv(\"test.csv\", on_bad_lines=\"skip\")\n",
        "\n",
        "# 2) Feature engineering function\n",
        "def extract_engine_features(text):\n",
        "    hp, liters, cyl = np.nan, np.nan, np.nan\n",
        "    try:\n",
        "        if isinstance(text, str):\n",
        "            if \"HP\" in text:\n",
        "                hp = float(text.split(\"HP\")[0].strip())\n",
        "            if \"L\" in text:\n",
        "                liters = float(text.split(\"L\")[0].split()[-1])\n",
        "            if \"Cylinder\" in text:\n",
        "                cyl = float(text.split(\"Cylinder\")[0].split()[-1])\n",
        "    except Exception:\n",
        "        pass\n",
        "    return pd.Series([hp, liters, cyl])\n",
        "\n",
        "for df in [train, test]:\n",
        "    df[\"milage\"] = pd.to_numeric(df[\"milage\"], errors=\"coerce\")\n",
        "    for col in [\"fuel_type\", \"accident\", \"clean_title\"]:\n",
        "        if col in df.columns:\n",
        "            df[col] = df[col].fillna(\"Unknown\").astype(str)\n",
        "\n",
        "    df[\"car_age\"] = 2025 - df[\"model_year\"]\n",
        "    df[\"milage_per_year\"] = np.where(df[\"car_age\"] > 0, df[\"milage\"] / df[\"car_age\"], df[\"milage\"])\n",
        "    df[[\"horsepower\", \"engine_size\", \"cylinders\"]] = df[\"engine\"].apply(extract_engine_features)\n",
        "\n",
        "# 3) Encode categoricals\n",
        "low_cardinality = [\"fuel_type\", \"transmission\", \"accident\", \"clean_title\"]\n",
        "for col in low_cardinality:\n",
        "    if col in train.columns:\n",
        "        le = LabelEncoder()\n",
        "        le.fit(pd.concat([train[col], test[col]]).astype(str))\n",
        "        train[col] = le.transform(train[col].astype(str))\n",
        "        test[col] = le.transform(test[col].astype(str))\n",
        "\n",
        "high_cardinality = [\"brand\", \"model\", \"ext_col\", \"int_col\", \"engine\"]\n",
        "for col in high_cardinality:\n",
        "    if col in train.columns:\n",
        "        freq = pd.concat([train[col], test[col]]).value_counts(normalize=True)\n",
        "        train[col] = train[col].map(freq).astype(float)\n",
        "        test[col] = test[col].map(freq).astype(float)\n",
        "\n",
        "# 4) Features + Target\n",
        "target = \"price\"\n",
        "feature_cols = [c for c in train.columns if c not in [\"id\", target]]\n",
        "\n",
        "X = train[feature_cols].apply(lambda s: s.fillna(s.mean()) if s.dtype.kind in \"fc\" else s)\n",
        "y = train[target].astype(float)\n",
        "\n",
        "X_test = test[feature_cols].apply(lambda s: s.fillna(s.mean()) if s.dtype.kind in \"fc\" else s)\n",
        "\n",
        "# 5) Train model\n",
        "model = HistGradientBoostingRegressor(max_iter=250, learning_rate=0.08, random_state=42)\n",
        "model.fit(X, y)\n",
        "\n",
        "# 6) Predict\n",
        "test_preds = model.predict(X_test)\n",
        "\n",
        "# 7) Create submission file\n",
        "submission = pd.DataFrame({\n",
        "    \"id\": test[\"id\"],\n",
        "    \"price\": test_preds\n",
        "})\n",
        "\n",
        "# Print shape before saving\n",
        "print(\"submission shape:\", submission.shape)\n",
        "\n",
        "# Save file\n",
        "submission.to_csv(\"submission.csv\", index=False)\n",
        "print(\"Saved submission.csv successfully!\")\n"
      ],
      "metadata": {
        "id": "IC_OXVx9yIVR"
      },
      "execution_count": null,
      "outputs": []
    },
    {
      "cell_type": "code",
      "source": [
        "val_preds = hgb.predict(X_val)\n",
        "mse = mean_squared_error(y_val, val_preds)\n",
        "rmse = np.sqrt(mse)\n",
        "print(\"Validation RMSE:\", rmse)"
      ],
      "metadata": {
        "id": "VBkxoZ1907xz"
      },
      "execution_count": null,
      "outputs": []
    }
  ]
}